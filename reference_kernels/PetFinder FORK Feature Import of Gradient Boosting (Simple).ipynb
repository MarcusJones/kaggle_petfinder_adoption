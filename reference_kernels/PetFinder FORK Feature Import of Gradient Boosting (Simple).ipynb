{
 "cells": [
  {
   "cell_type": "code",
   "execution_count": null,
   "metadata": {
    "_uuid": "8f2839f25d086af736a60e9eeb907d3b93b6e0e5",
    "_cell_guid": "b1076dfc-b9ad-4769-8c92-a6c4dae69d19",
    "trusted": true
   },
   "outputs": [],
   "source": [
    "# This Python 3 environment comes with many helpful analytics libraries installed\n",
    "# It is defined by the kaggle/python docker image: https://github.com/kaggle/docker-python\n",
    "# For example, here's several helpful packages to load in \n",
    "\n",
    "import numpy as np # linear algebra\n",
    "import pandas as pd # data processing, CSV file I/O (e.g. pd.read_csv)\n",
    "\n",
    "# Input data files are available in the \"../input/\" directory.\n",
    "# For example, running this (by clicking run or pressing Shift+Enter) will list the files in the input directory\n",
    "\n",
    "import os\n",
    "print(os.listdir(\"../input\"))\n",
    "\n",
    "# Any results you write to the current directory are saved as output.\n",
    "import warnings\n",
    "warnings.filterwarnings(\"ignore\")\n",
    "\n",
    "# Gradient Boosting Classifier https://scikit-learn.org/stable/modules/generated/sklearn.svm.SVR.html#sklearn.svm.SVR\n",
    "from sklearn.datasets import make_hastie_10_2 \n",
    "from sklearn.ensemble import GradientBoostingClassifier\n",
    "\n",
    "# Plot\n",
    "import matplotlib.pyplot as plt\n"
   ]
  },
  {
   "cell_type": "code",
   "execution_count": null,
   "metadata": {
    "_cell_guid": "79c7e3d0-c299-4dcb-8224-4455121ee9b0",
    "_uuid": "d629ff2d2480ee46fbb7e2d37f6b5fab8052498a",
    "trusted": true
   },
   "outputs": [],
   "source": [
    "# read data\n",
    "breeds = pd.read_csv('../input/breed_labels.csv')\n",
    "colors = pd.read_csv('../input/color_labels.csv')\n",
    "states = pd.read_csv('../input/state_labels.csv')\n",
    "\n",
    "train = pd.read_csv('../input/train/train.csv')\n",
    "test = pd.read_csv('../input/test/test.csv')\n",
    "sub = pd.read_csv('../input/test/sample_submission.csv')\n",
    "\n",
    "train['dataset_type'] = 'train'\n",
    "test['dataset_type'] = 'test'\n",
    "all_data = pd.concat([train, test])"
   ]
  },
  {
   "cell_type": "code",
   "execution_count": null,
   "metadata": {
    "trusted": true,
    "_uuid": "040ed6ffea4d1d88d44a428de24d874e501a1eeb"
   },
   "outputs": [],
   "source": [
    "train.head(1)"
   ]
  },
  {
   "cell_type": "code",
   "execution_count": null,
   "metadata": {
    "trusted": true,
    "_uuid": "cc740c75f55c3546c565f00027c99bd823f5f8bb"
   },
   "outputs": [],
   "source": [
    "# train input data (x) and train labels (y), at this time no seperation for validating, no normalization\n",
    "tr_x = train.iloc[:,[2,3,4,5,6,7,8,9,11,12,13,14,19,22]].values\n",
    "tr_y = (train.iloc[:,[23]]).values\n",
    "\n",
    "# features as input\n",
    "# 1. Age - Age of pet when listed, in months\n",
    "# 2. Breed1 - Primary breed of pet (Refer to BreedLabels dictionary)\n",
    "# 3. Breed2 - Secondary breed of pet, if pet is of mixed breed (Refer to BreedLabels dictionary)\n",
    "# 4. Gender - Gender of pet (1 = Male, 2 = Female, 3 = Mixed, if profile represents group of pets)\n",
    "# 5. Color1 - Color 1 of pet (Refer to ColorLabels dictionary)\n",
    "# 6. Color2 - Color 2 of pet (Refer to ColorLabels dictionary)\n",
    "# 7. Color3 - Color 3 of pet (Refer to ColorLabels dictionary)\n",
    "# 8. MaturitySize - Size at maturity (1 = Small, 2 = Medium, 3 = Large, 4 = Extra Large, 0 = Not Specified)\n",
    "# 9. Vaccinated - Pet has been vaccinated (1 = Yes, 2 = No, 3 = Not Sure)\n",
    "# 10. Dewormed - Pet has been dewormed (1 = Yes, 2 = No, 3 = Not Sure)\n",
    "# 11. Sterilized - Pet has been spayed / neutered (1 = Yes, 2 = No, 3 = Not Sure)\n",
    "# 12. Health - Health Condition (1 = Healthy, 2 = Minor Injury, 3 = Serious Injury, 0 = Not Specified)\n",
    "# 13. VideoAmt - Total uploaded videos for this pet\n",
    "# 14. PhotoAmt - Total uploaded photos for this pet"
   ]
  },
  {
   "cell_type": "code",
   "execution_count": null,
   "metadata": {
    "trusted": true,
    "_uuid": "f4a2350dcbcd838b1d80a44b4e8673dc95fefec1"
   },
   "outputs": [],
   "source": [
    "# Training for Gradient Boosting Classifier\n",
    "clf = GradientBoostingClassifier(n_estimators=150, learning_rate=0.5, max_depth=12, random_state=0).fit(tr_x, tr_y)"
   ]
  },
  {
   "cell_type": "code",
   "execution_count": null,
   "metadata": {
    "trusted": true,
    "_uuid": "ecec2988f4b5d901f0c0ce12433f0a9c5c025e8c"
   },
   "outputs": [],
   "source": [
    "# Plot feature importance https://scikit-learn.org/stable/modules/generated/sklearn.svm.SVR.html#sklearn.svm.SVR\n",
    "feature_importance = clf.feature_importances_\n",
    "# make importances relative to max importance\n",
    "feature_importance = 100.0 * (feature_importance / feature_importance.max())\n",
    "sorted_idx = np.argsort(feature_importance)\n",
    "pos = np.arange(sorted_idx.shape[0]) + .5\n",
    "# plt.subplot(1, 2, 2)\n",
    "plt.figure(figsize=(12, 6))\n",
    "plt.barh(pos, feature_importance[sorted_idx], align='center')\n",
    "plt.yticks(pos, train.iloc[:,[2,3,4,5,6,7,8,9,11,12,13,14,19,22]].keys()[sorted_idx])\n",
    "plt.xlabel('Relative Importance')\n",
    "plt.title('Variable Importance')\n",
    "plt.show()"
   ]
  },
  {
   "cell_type": "code",
   "execution_count": null,
   "metadata": {
    "trusted": true,
    "_uuid": "e857f30c09c34f51353f15b51b146bd33389b5f8"
   },
   "outputs": [],
   "source": [
    "# For submission\n",
    "test_x = test.iloc[:,[2,3,4,5,6,7,8,9,11,12,13,14,19,22]].values\n",
    "prediction = clf.predict(test_x)\n",
    "clf.score(tr_x, tr_y) "
   ]
  },
  {
   "cell_type": "code",
   "execution_count": null,
   "metadata": {
    "trusted": true,
    "_uuid": "b6c196e74a2b1203bdd19ce926c8a3526e445c44"
   },
   "outputs": [],
   "source": [
    "# Create submission data\n",
    "submission = pd.DataFrame({'PetID': sub.PetID, 'AdoptionSpeed': [int(i) for i in prediction]})\n",
    "submission.head()"
   ]
  },
  {
   "cell_type": "code",
   "execution_count": null,
   "metadata": {
    "trusted": true,
    "_uuid": "fa62cf0cfe0f549d00d90fcd4a24a04444ccd1f9"
   },
   "outputs": [],
   "source": [
    "# Create submission file\n",
    "submission.to_csv('submission.csv', index=False)"
   ]
  }
 ],
 "metadata": {
  "kernelspec": {
   "display_name": "Python 3",
   "language": "python",
   "name": "python3"
  },
  "language_info": {
   "name": "python",
   "version": "3.6.6",
   "mimetype": "text/x-python",
   "codemirror_mode": {
    "name": "ipython",
    "version": 3
   },
   "pygments_lexer": "ipython3",
   "nbconvert_exporter": "python",
   "file_extension": ".py"
  }
 },
 "nbformat": 4,
 "nbformat_minor": 1
}
